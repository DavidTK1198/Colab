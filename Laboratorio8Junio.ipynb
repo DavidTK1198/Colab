{
  "nbformat": 4,
  "nbformat_minor": 0,
  "metadata": {
    "colab": {
      "name": "Laboratorio8Junio.ipynb",
      "provenance": [],
      "collapsed_sections": [],
      "authorship_tag": "ABX9TyMHKo4jWblwommJEKKkjSJh",
      "include_colab_link": true
    },
    "kernelspec": {
      "name": "python3",
      "display_name": "Python 3"
    },
    "language_info": {
      "name": "python"
    }
  },
  "cells": [
    {
      "cell_type": "markdown",
      "metadata": {
        "id": "view-in-github",
        "colab_type": "text"
      },
      "source": [
        "<a href=\"https://colab.research.google.com/github/DavidTK1198/Colab/blob/master/Laboratorio8Junio.ipynb\" target=\"_parent\"><img src=\"https://colab.research.google.com/assets/colab-badge.svg\" alt=\"Open In Colab\"/></a>"
      ]
    },
    {
      "cell_type": "markdown",
      "source": [
        "Laboratorio Inicial Colab Daniel David Barrientos Araya"
      ],
      "metadata": {
        "id": "XL103iibBuwX"
      }
    },
    {
      "cell_type": "code",
      "source": [
        "import pandas as pd\n",
        "from google.colab import auth\n",
        "auth.authenticate_user()\n",
        "import gspread\n",
        "from google.auth import default\n",
        "creds, _ = default()\n",
        "gc= gspread.authorize(creds)\n",
        "sh= gc.create('David Barrientos Araya') \n"
      ],
      "metadata": {
        "id": "-wTc5L3RCfsP"
      },
      "execution_count": 1,
      "outputs": []
    },
    {
      "cell_type": "code",
      "source": [
        "from gspread.models import Worksheet\n",
        "import random\n",
        "worksheet=gc.open('David Barrientos Araya').sheet1\n",
        "cell_list=worksheet.range('A1:G14')\n",
        "\n",
        "for cell in cell_list:\n",
        "  cell.value=random.randint(1,10)\n",
        "worksheet.update_cells(cell_list)"
      ],
      "metadata": {
        "colab": {
          "base_uri": "https://localhost:8080/"
        },
        "id": "7p0ujC_8FD6Y",
        "outputId": "af4e9d72-0b88-4db2-a45f-043a3439a9fd"
      },
      "execution_count": 10,
      "outputs": [
        {
          "output_type": "execute_result",
          "data": {
            "text/plain": [
              "{'spreadsheetId': '1-mKBsEd6GuietxAxTBRdpI4fFD4ong8a6ktERQbq3ac',\n",
              " 'updatedCells': 98,\n",
              " 'updatedColumns': 7,\n",
              " 'updatedRange': \"'Hoja 1'!A1:G14\",\n",
              " 'updatedRows': 14}"
            ]
          },
          "metadata": {},
          "execution_count": 10
        }
      ]
    },
    {
      "cell_type": "code",
      "source": [
        "rows=gc.open('David Barrientos Araya').sheet1\n",
        "rows=worksheet.get_all_values()\n",
        "print(rows)"
      ],
      "metadata": {
        "colab": {
          "base_uri": "https://localhost:8080/"
        },
        "id": "CvlrknIoIUcR",
        "outputId": "c58e3978-dacb-4dd3-af8d-104fc27b1a81"
      },
      "execution_count": 11,
      "outputs": [
        {
          "output_type": "stream",
          "name": "stdout",
          "text": [
            "[['7', '9', '8', '1', '2', '10', '1'], ['8', '7', '9', '3', '8', '10', '1'], ['10', '3', '2', '9', '6', '7', '9'], ['8', '8', '3', '9', '4', '7', '2'], ['5', '1', '2', '2', '8', '9', '3'], ['1', '4', '3', '7', '3', '7', '10'], ['1', '9', '2', '9', '1', '8', '5'], ['4', '4', '2', '7', '6', '1', '10'], ['6', '7', '10', '7', '9', '4', '5'], ['3', '8', '10', '2', '3', '1', '6'], ['3', '8', '4', '10', '1', '5', '6'], ['7', '2', '9', '8', '5', '10', '6'], ['3', '3', '1', '3', '8', '4', '3'], ['6', '6', '6', '3', '2', '6', '2']]\n"
          ]
        }
      ]
    }
  ]
}